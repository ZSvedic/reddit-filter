{
 "cells": [
  {
   "cell_type": "code",
   "execution_count": 2,
   "metadata": {},
   "outputs": [
    {
     "name": "stdout",
     "output_type": "stream",
     "text": [
      "/home/zel/ml-projects/HUMOR/Reddit-data/lol_submissions.zst\n",
      "/home/zel/ml-projects/HUMOR/Reddit-data/lol_comments.zst\n",
      "/home/zel/ml-projects/HUMOR/Reddit-data/out/lol_threads.jsonl\n",
      "\n"
     ]
    },
    {
     "name": "stderr",
     "output_type": "stream",
     "text": [
      "100%|██████████| 8.99M/8.99M [00:00<00:00, 30.9MB/s]\n",
      "100%|██████████| 2.30M/2.30M [00:00<00:00, 29.3MB/s]\n"
     ]
    },
    {
     "name": "stdout",
     "output_type": "stream",
     "text": [
      "/home/zel/ml-projects/HUMOR/Reddit-data/FollowThePunchline_submissions.zst\n",
      "/home/zel/ml-projects/HUMOR/Reddit-data/FollowThePunchline_comments.zst\n",
      "/home/zel/ml-projects/HUMOR/Reddit-data/out/FollowThePunchline_threads.jsonl\n",
      "\n"
     ]
    },
    {
     "name": "stderr",
     "output_type": "stream",
     "text": [
      "100%|██████████| 252k/252k [00:00<00:00, 16.1MB/s]\n",
      "100%|██████████| 1.89M/1.89M [00:00<00:00, 15.0MB/s]\n"
     ]
    },
    {
     "name": "stdout",
     "output_type": "stream",
     "text": [
      "/home/zel/ml-projects/HUMOR/Reddit-data/oneliners_submissions.zst\n",
      "/home/zel/ml-projects/HUMOR/Reddit-data/oneliners_comments.zst\n",
      "/home/zel/ml-projects/HUMOR/Reddit-data/out/oneliners_threads.jsonl\n",
      "\n"
     ]
    },
    {
     "name": "stderr",
     "output_type": "stream",
     "text": [
      "100%|██████████| 4.81M/4.81M [00:00<00:00, 18.2MB/s]\n",
      "100%|██████████| 6.68M/6.68M [00:00<00:00, 22.0MB/s]\n"
     ]
    },
    {
     "name": "stdout",
     "output_type": "stream",
     "text": [
      "Fri May  3 18:15:55 2024    profiling_results.out\n",
      "\n",
      "         977013 function calls (968060 primitive calls) in 1.135 seconds\n",
      "\n",
      "   Ordered by: internal time\n",
      "   List reduced from 176 to 10 due to restriction <10>\n",
      "\n",
      "   ncalls  tottime  percall  cumtime  percall filename:lineno(function)\n",
      "   196897    0.409    0.000    0.410    0.000 {orjson.loads}\n",
      "     6379    0.209    0.000    0.209    0.000 {method 'decode' of 'bytes' objects}\n",
      "        6    0.123    0.020    0.123    0.020 {method 'split' of 'str' objects}\n",
      "       12    0.095    0.008    0.095    0.008 {method 'read' of 'zstd.ZstdDecompressionReader' objects}\n",
      "   196903    0.078    0.000    0.990    0.000 /home/zel/ml-projects/HUMOR/Reddit-filter/zst_handling.py:52(read_zst_file)\n",
      "        3    0.055    0.018    0.514    0.171 /home/zel/ml-projects/HUMOR/Reddit-filter/reddit_json.py:34(load_comments)\n",
      "        3    0.043    0.014    0.577    0.192 /home/zel/ml-projects/HUMOR/Reddit-filter/reddit_json.py:13(load_submissions)\n",
      "   196897    0.040    0.000    0.045    0.000 /home/zel/.local/share/virtualenvs/Reddit-filter-1bcAF4EF/lib/python3.10/site-packages/tqdm/std.py:1198(update)\n",
      "   196903    0.019    0.000    0.445    0.000 /home/zel/ml-projects/HUMOR/Reddit-filter/zst_handling.py:23(read_lines_zst)\n",
      "      221    0.009    0.000    0.009    0.000 {method 'acquire' of '_thread.lock' objects}\n",
      "\n",
      "\n"
     ]
    },
    {
     "data": {
      "text/plain": [
       "<pstats.Stats at 0x7f1973c4efb0>"
      ]
     },
     "execution_count": 2,
     "metadata": {},
     "output_type": "execute_result"
    }
   ],
   "source": [
    "import cProfile\n",
    "import pstats\n",
    "import reddit_json\n",
    "import zst_handling\n",
    "import os\n",
    "\n",
    "def folder_get_file_triplets(root_folder, *, \n",
    "                            suffix_submissions = '_submissions.zst', \n",
    "                            suffix_comments = '_comments.zst'):\n",
    "    ''' Generator that yields triplets of file paths for Reddit's .ZST submissions, \n",
    "    comments and output files. '''\n",
    "    for file in os.listdir(root_folder):\n",
    "        if file.endswith('submissions.zst'):\n",
    "            sub_file_path = os.path.join(root_folder, file)\n",
    "            com_file_path = sub_file_path.replace(suffix_submissions, suffix_comments)\n",
    "            out_file_name = file.replace(suffix_submissions, '_threads.jsonl')\n",
    "            out_file_path = os.path.join(root_folder, 'out', out_file_name)\n",
    "            yield sub_file_path, com_file_path, out_file_path\n",
    "\n",
    "def main():\n",
    "    root = '/home/zel/ml-projects/HUMOR/Reddit-data/'\n",
    "    for sub_file, com_file, out_file in folder_get_file_triplets(root):\n",
    "        print(f'{sub_file}\\n{com_file}\\n{out_file}\\n')\n",
    "        # Create threads from the submissions and comments.\n",
    "        threads = reddit_json.create_threads(\n",
    "            zst_handling.read_zst_file(sub_file), \n",
    "            zst_handling.read_zst_file(com_file))\n",
    "        # Write JSON lines with the threads.\n",
    "        reddit_json.save_jsonl(out_file, reddit_json.generate_json(threads))\n",
    "\n",
    "# Run the main function under the cProfile profiler\n",
    "cProfile.run('main()', 'profiling_results.out')\n",
    "\n",
    "# Create a pstats.Stats object to analyze the profiling results\n",
    "p = pstats.Stats('profiling_results.out')\n",
    "\n",
    "# Sort the statistics by the cumulative time spent in the function\n",
    "p.sort_stats('tottime')\n",
    "\n",
    "# Print the statistics\n",
    "p.print_stats(10)"
   ]
  }
 ],
 "metadata": {
  "kernelspec": {
   "display_name": "Reddit-filter-1bcAF4EF",
   "language": "python",
   "name": "python3"
  },
  "language_info": {
   "codemirror_mode": {
    "name": "ipython",
    "version": 3
   },
   "file_extension": ".py",
   "mimetype": "text/x-python",
   "name": "python",
   "nbconvert_exporter": "python",
   "pygments_lexer": "ipython3",
   "version": "3.10.12"
  }
 },
 "nbformat": 4,
 "nbformat_minor": 2
}
