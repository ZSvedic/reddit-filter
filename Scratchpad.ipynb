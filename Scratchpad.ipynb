{
 "cells": [
  {
   "cell_type": "code",
   "execution_count": 2,
   "metadata": {},
   "outputs": [
    {
     "data": {
      "text/plain": [
       "{'conversations': [{'from': 'human',\n",
       "   'value': 'Why did the vietnamese cat fall off the tree?'},\n",
       "  {'from': 'gpt',\n",
       "   'value': 'Because he tripped.  But he was alright because cats land on all Pho feet.'},\n",
       "  {'from': 'gpt', 'value': \"... can't top this one\"}],\n",
       " 'subreddit': 'FollowThePunchline',\n",
       " 'url': 'https://www.reddit.com/r/FollowThePunchline/comments/fm2kh3/why_did_the_vietnamese_cat_fall_off_the_tree/'}"
      ]
     },
     "execution_count": 2,
     "metadata": {},
     "output_type": "execute_result"
    }
   ],
   "source": [
    "import datasets # type: ignore\n",
    "\n",
    "# Test if the dataset can be loaded from Hugging Face.\n",
    "dataset_name = 'ZSvedic/humor-chains'\n",
    "dataset = datasets.load_dataset(dataset_name)['train']\n",
    "\n",
    "# Get first example.\n",
    "dataset[0]"
   ]
  }
 ],
 "metadata": {
  "kernelspec": {
   "display_name": "Reddit-filter-1bcAF4EF",
   "language": "python",
   "name": "python3"
  },
  "language_info": {
   "codemirror_mode": {
    "name": "ipython",
    "version": 3
   },
   "file_extension": ".py",
   "mimetype": "text/x-python",
   "name": "python",
   "nbconvert_exporter": "python",
   "pygments_lexer": "ipython3",
   "version": "3.10.12"
  }
 },
 "nbformat": 4,
 "nbformat_minor": 2
}
